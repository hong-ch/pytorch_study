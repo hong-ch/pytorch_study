{
 "cells": [
  {
   "cell_type": "markdown",
   "id": "9ec2bb7d",
   "metadata": {},
   "source": [
    "## torch.autograd 를 사용한 자동 미분\n",
    "신경망 학습에서 중요한 **역전파 알고리즘**은 모델 가중치를 손실함수의 기울기에 따라 조정되도록 해주는데, <br>\n",
    "이런 미분(gradient) 계산을 자동으로 수행해주는 도구로 `torch.autograd` 가 쓰인다."
   ]
  },
  {
   "cell_type": "code",
   "execution_count": 6,
   "id": "2b04c46c",
   "metadata": {},
   "outputs": [],
   "source": [
    "import torch\n",
    "\n",
    "x = torch.ones(5)  # input tensor\n",
    "y = torch.zeros(3)  # expected output\n",
    "# 최적화 해야하는 매개변수에는 손실 함수의 변화도를 계산할 수 있도록 requries_grad 속성을 설정한다.\n",
    "w = torch.randn(5, 3, requires_grad=True)  # weight\n",
    "b = torch. randn(3, requires_grad=True)  # bias\n",
    "z = torch. matmul(x, w) + b\n",
    "loss = torch.nn.functional.binary_cross_entropy_with_logits(z,y)"
   ]
  },
  {
   "cell_type": "markdown",
   "id": "001d6eeb",
   "metadata": {},
   "source": [
    "### Tensor, Function과 연산그래프(Computational graph)\n"
   ]
  },
  {
   "cell_type": "markdown",
   "id": "e7e4b2fc",
   "metadata": {},
   "source": [
    "![](https://velog.velcdn.com/images/changh2_00/post/13246418-179f-4aa8-a57e-8ab7e4293fef/image.png)"
   ]
  },
  {
   "cell_type": "code",
   "execution_count": 7,
   "id": "e7d7ba4b",
   "metadata": {},
   "outputs": [
    {
     "name": "stdout",
     "output_type": "stream",
     "text": [
      "Gradient function for z = <AddBackward0 object at 0x0000017D1F431E70>\n",
      "Gradient function for loss = <BinaryCrossEntropyWithLogitsBackward0 object at 0x0000017D1F581ED0>\n"
     ]
    }
   ],
   "source": [
    "#📌 모든 연산 결과(tensor)에는 .grad_fn 속성이 있어서, 해당 텐서가 어떤 함수(Function) 을 통해 만들어졌는지 추적 가능\n",
    "print(f\"Gradient function for z = {z.grad_fn}\")\n",
    "print(f\"Gradient function for loss = {loss.grad_fn}\")"
   ]
  },
  {
   "cell_type": "markdown",
   "id": "c365c848",
   "metadata": {},
   "source": [
    "### 변화도(Gradient) 계산하기"
   ]
  },
  {
   "cell_type": "code",
   "execution_count": 8,
   "id": "57574db2",
   "metadata": {},
   "outputs": [
    {
     "name": "stdout",
     "output_type": "stream",
     "text": [
      "tensor([[0.1476, 0.2585, 0.1248],\n",
      "        [0.1476, 0.2585, 0.1248],\n",
      "        [0.1476, 0.2585, 0.1248],\n",
      "        [0.1476, 0.2585, 0.1248],\n",
      "        [0.1476, 0.2585, 0.1248]])\n",
      "tensor([0.1476, 0.2585, 0.1248])\n"
     ]
    }
   ],
   "source": [
    "#📌 신경망에서 매개변수의 가중치를 최적화하려면 매개변수에 대한 손실함수의 도함수(derivative)를 계산해야 합니다.\n",
    "#📌 이러한 도함수를 계산하기 위해, loss.backward() 를 호출한 다음 w.grad와 b.grad에서 값을 가져옵니다\n",
    "loss.backward()\n",
    "print(w.grad)\n",
    "print(b.grad)"
   ]
  },
  {
   "cell_type": "markdown",
   "id": "cc420367",
   "metadata": {},
   "source": [
    "### 변화도 추적 멈추기"
   ]
  },
  {
   "cell_type": "code",
   "execution_count": null,
   "id": "1c44b58c",
   "metadata": {},
   "outputs": [
    {
     "name": "stdout",
     "output_type": "stream",
     "text": [
      "True\n",
      "False\n"
     ]
    }
   ],
   "source": [
    "#📌 매개변수값을 고정시키고 싶거나, 예측단계에서는 변화도 추적을 멈춤\n",
    "z = torch.matmul(x, w) + b         # gradient 추적됨\n",
    "print(z.requires_grad)             # True\n",
    "\n",
    "with torch.no_grad():              # gradient 추적 끔\n",
    "    z = torch.matmul(x, w) + b     # 추적 안 됨\n",
    "print(z.requires_grad)             # False\n"
   ]
  },
  {
   "cell_type": "code",
   "execution_count": 11,
   "id": "1a5866fa",
   "metadata": {},
   "outputs": [
    {
     "name": "stdout",
     "output_type": "stream",
     "text": [
      "False\n"
     ]
    }
   ],
   "source": [
    "#📌 다른 방법으로 detach() 메소드를 사용할 수 있음 (동일한 결과)\n",
    "z = torch.matmul(x, w)+b\n",
    "z_det = z.detach()\n",
    "print(z_det.requires_grad)"
   ]
  }
 ],
 "metadata": {
  "kernelspec": {
   "display_name": "base",
   "language": "python",
   "name": "python3"
  },
  "language_info": {
   "codemirror_mode": {
    "name": "ipython",
    "version": 3
   },
   "file_extension": ".py",
   "mimetype": "text/x-python",
   "name": "python",
   "nbconvert_exporter": "python",
   "pygments_lexer": "ipython3",
   "version": "3.10.11"
  }
 },
 "nbformat": 4,
 "nbformat_minor": 5
}
