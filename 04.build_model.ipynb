{
 "cells": [
  {
   "cell_type": "markdown",
   "id": "36b74441",
   "metadata": {},
   "source": [
    "## 신경망 모델 구성하기\n",
    "torch.nn 네임스페이스는 신경망을 구성하는데 필요한 모든 구성 요소를 제공합니다. <br>\n",
    "PyTorch의 모든 모듈은 nn.Module 의 하위 클래스(subclass) 입니다."
   ]
  },
  {
   "cell_type": "code",
   "execution_count": 2,
   "id": "6818d6a9",
   "metadata": {},
   "outputs": [],
   "source": [
    "import os\n",
    "import torch\n",
    "from torch import nn\n",
    "from torch.utils.data import DataLoader\n",
    "from torchvision import datasets, transforms"
   ]
  },
  {
   "cell_type": "markdown",
   "id": "e075ca0b",
   "metadata": {},
   "source": [
    "### 학습을 위한 장치 얻기"
   ]
  },
  {
   "cell_type": "code",
   "execution_count": null,
   "id": "e22dcca8",
   "metadata": {},
   "outputs": [
    {
     "name": "stdout",
     "output_type": "stream",
     "text": [
      "Using cuda device\n"
     ]
    }
   ],
   "source": [
    "# 가능한 경우 GPU 또는 MPS와 같은 하드웨어 가속기에서 모델을 학습하려고 합니다.\n",
    "# torch.cuda 또는 torch.backends.mps 가 사용 가능한지 확인해보고, 그렇지 않으면 CPU를 계속 사용합니다.\n",
    "device = (\n",
    "    \"cuda\"\n",
    "    if torch.cuda.is_available()\n",
    "    else \"mps\"\n",
    "    if torch.backends.mps.is_available()\n",
    "    else \"cpu\"\n",
    ")\n",
    "print(f\"Using {device} device\")"
   ]
  },
  {
   "cell_type": "markdown",
   "id": "63ed5d21",
   "metadata": {},
   "source": [
    "### 클래스 정의하기"
   ]
  },
  {
   "cell_type": "code",
   "execution_count": null,
   "id": "3c08f7d3",
   "metadata": {},
   "outputs": [],
   "source": [
    "#📌 신경망 모델을 nn.Module의 하위클래스로 정의하고, __init__에서 신경망 계층들을 초기화합니다.\n",
    "#📌 nn.Module을 상속받은 모든 클래스는 forward 메소드에 입력 데이터에 대한 연산들을 구현합니다.\n",
    "class NeuralNetwork(nn.Module):\n",
    "    def __init__(self):\n",
    "        super().__init__()\n",
    "        self.flatten = nn.Flatten()\n",
    "        self.linear_relu_stack = nn.Sequential(\n",
    "            nn.Linear(28*28, 512),\n",
    "            nn.ReLU(),\n",
    "            nn.Linear(512, 512),\n",
    "            nn.ReLU(),\n",
    "            nn.Linear(512, 10),\n",
    "        )\n",
    "\n",
    "    def forward(self, x):\n",
    "        x = self.flatten(x)\n",
    "        logits = self.linear_relu_stack(x)\n",
    "        return logits"
   ]
  },
  {
   "cell_type": "code",
   "execution_count": null,
   "id": "be9f0fc2",
   "metadata": {},
   "outputs": [
    {
     "name": "stdout",
     "output_type": "stream",
     "text": [
      "NeuralNetwork(\n",
      "  (flatten): Flatten(start_dim=1, end_dim=-1)\n",
      "  (linear_relu_stack): Sequential(\n",
      "    (0): Linear(in_features=784, out_features=512, bias=True)\n",
      "    (1): ReLU()\n",
      "    (2): Linear(in_features=512, out_features=512, bias=True)\n",
      "    (3): ReLU()\n",
      "    (4): Linear(in_features=512, out_features=10, bias=True)\n",
      "  )\n",
      ")\n"
     ]
    }
   ],
   "source": [
    "#📌 NeuralNetwork 의 인스턴스(instance)를 생성하고 이를 device 로 이동한 뒤, 구조(structure)를 출력합니다.\n",
    "model = NeuralNetwork().to(device)\n",
    "print(model)"
   ]
  },
  {
   "cell_type": "code",
   "execution_count": 7,
   "id": "274fd2f6",
   "metadata": {},
   "outputs": [
    {
     "name": "stdout",
     "output_type": "stream",
     "text": [
      "Predicted class: tensor([6], device='cuda:0')\n"
     ]
    }
   ],
   "source": [
    "X = torch.rand(1, 28, 28, device=device)  # 배치크기 1, 이미지의 크기 28x28\n",
    "logits = model(X)  # X를 모델에 입력, logits는 각 클래스에 대한 점수를 의미\n",
    "pred_probab = nn.Softmax(dim=1)(logits)  # 소프트맥스 적용해 클래스별 확률 분포로 변환\n",
    "y_pred = pred_probab.argmax(1)  # 가장 확률이 높은 클래스를 예측값으로 선택\n",
    "print(f\"Predicted class: {y_pred}\")"
   ]
  },
  {
   "cell_type": "markdown",
   "id": "44ff760e",
   "metadata": {},
   "source": [
    "---\n",
    "\n",
    "### 모델 계층 (Layer)\n",
    "28x28 크기의 이미지 3개로 구성된 미니배치를 가져와, 신경망을 통과할 때 어떤 일이 발생하는지 알아보겠습니다."
   ]
  },
  {
   "cell_type": "code",
   "execution_count": 9,
   "id": "443044b5",
   "metadata": {},
   "outputs": [
    {
     "name": "stdout",
     "output_type": "stream",
     "text": [
      "torch.Size([3, 28, 28])\n"
     ]
    }
   ],
   "source": [
    "input_image = torch.rand(3,28,28)\n",
    "print(input_image.size())"
   ]
  },
  {
   "cell_type": "markdown",
   "id": "c3850bde",
   "metadata": {},
   "source": [
    "### nn.Flatten"
   ]
  },
  {
   "cell_type": "code",
   "execution_count": null,
   "id": "e7dd7c17",
   "metadata": {},
   "outputs": [
    {
     "name": "stdout",
     "output_type": "stream",
     "text": [
      "torch.Size([3, 784])\n"
     ]
    }
   ],
   "source": [
    "#📌 nn.Flatten 계층을 초기화하여 각 28x28의 2D 이미지를 784 픽셀 값을 갖는 연속된 배열로 변환\n",
    "flatten = nn.Flatten()\n",
    "flat_image = flatten(input_image)\n",
    "print(flat_image.size())"
   ]
  },
  {
   "cell_type": "markdown",
   "id": "2b93f173",
   "metadata": {},
   "source": [
    "### nn.Linear"
   ]
  },
  {
   "cell_type": "code",
   "execution_count": 11,
   "id": "9414a56f",
   "metadata": {},
   "outputs": [
    {
     "name": "stdout",
     "output_type": "stream",
     "text": [
      "torch.Size([3, 20])\n"
     ]
    }
   ],
   "source": [
    "#📌 Linear 계층은 저장된 가중치와 편향을 사용하여 입력에 선형 변환을 적용하는 모듈임\n",
    "layer1 = nn.Linear(in_features=28*28, out_features=20)\n",
    "hidden1 = layer1(flat_image)\n",
    "print(hidden1.size())"
   ]
  },
  {
   "cell_type": "markdown",
   "id": "fa61d032",
   "metadata": {},
   "source": [
    "### nn.ReLU"
   ]
  },
  {
   "cell_type": "code",
   "execution_count": 12,
   "id": "f1a8d59f",
   "metadata": {},
   "outputs": [
    {
     "name": "stdout",
     "output_type": "stream",
     "text": [
      "Before ReLU: tensor([[-0.2720,  0.2158,  0.7118, -0.0889,  0.1320,  0.0789, -0.1721, -0.1163,\n",
      "          0.7624,  0.0684, -0.9619, -0.0410, -0.0498,  0.0456, -0.0387,  0.1102,\n",
      "         -0.4683,  0.0362, -0.0891,  0.2415],\n",
      "        [-0.0863,  0.4445,  0.3661, -0.2910,  0.0018,  0.0384,  0.4135,  0.1175,\n",
      "          0.4792, -0.0431, -0.5644,  0.1001,  0.1270, -0.4057,  0.5302,  0.2814,\n",
      "         -0.6950, -0.0415, -0.1329, -0.0043],\n",
      "        [-0.1910,  0.2873,  0.5827, -0.4594, -0.2557, -0.2483,  0.2404, -0.0531,\n",
      "          0.4618, -0.0686, -0.6308,  0.2566, -0.1816, -0.1990,  0.1739,  0.3518,\n",
      "         -0.3067, -0.3344, -0.2308,  0.6522]], grad_fn=<AddmmBackward0>)\n",
      "\n",
      "\n",
      "After ReLU: tensor([[0.0000, 0.2158, 0.7118, 0.0000, 0.1320, 0.0789, 0.0000, 0.0000, 0.7624,\n",
      "         0.0684, 0.0000, 0.0000, 0.0000, 0.0456, 0.0000, 0.1102, 0.0000, 0.0362,\n",
      "         0.0000, 0.2415],\n",
      "        [0.0000, 0.4445, 0.3661, 0.0000, 0.0018, 0.0384, 0.4135, 0.1175, 0.4792,\n",
      "         0.0000, 0.0000, 0.1001, 0.1270, 0.0000, 0.5302, 0.2814, 0.0000, 0.0000,\n",
      "         0.0000, 0.0000],\n",
      "        [0.0000, 0.2873, 0.5827, 0.0000, 0.0000, 0.0000, 0.2404, 0.0000, 0.4618,\n",
      "         0.0000, 0.0000, 0.2566, 0.0000, 0.0000, 0.1739, 0.3518, 0.0000, 0.0000,\n",
      "         0.0000, 0.6522]], grad_fn=<ReluBackward0>)\n"
     ]
    }
   ],
   "source": [
    "#📌 비선형 활성화(activation)는 모델의 입력과 출력 사이에 복잡한 관계(mapping)를 만듭니다. \n",
    "#📌 선형 변환 후에 적용되어 비선형성(nonlinearity) 을 도입하고, 신경망이 다양한 현상을 학습할 수 있도록 돕습니다.\n",
    "print(f\"Before ReLU: {hidden1}\\n\\n\")\n",
    "hidden1 = nn.ReLU()(hidden1)\n",
    "print(f\"After ReLU: {hidden1}\")\n"
   ]
  },
  {
   "cell_type": "markdown",
   "id": "e005a7c7",
   "metadata": {},
   "source": [
    "### nn.Sequential"
   ]
  },
  {
   "cell_type": "code",
   "execution_count": 13,
   "id": "fe3d2cce",
   "metadata": {},
   "outputs": [],
   "source": [
    "#📌 nn.Sequential 은 순서를 갖는 모듈의 컨테이너입니다. 데이터는 정의된 것과 같은 순서로 모든 모듈들을 통해 전달됩니다. \n",
    "#📌 순차 컨테이너(sequential container)를 사용하여 아래의 seq_modules 와 같은 신경망을 빠르게 만들 수 있습니다.\n",
    "seq_modules = nn.Sequential(\n",
    "    flatten,\n",
    "    layer1,\n",
    "    nn.ReLU(),\n",
    "    nn.Linear(20, 10)\n",
    ")\n",
    "input_image = torch.rand(3,28,28)\n",
    "logits = seq_modules(input_image)"
   ]
  },
  {
   "cell_type": "markdown",
   "id": "1ac7fc90",
   "metadata": {},
   "source": [
    "### nn.Softmax"
   ]
  },
  {
   "cell_type": "code",
   "execution_count": null,
   "id": "4bc48867",
   "metadata": {},
   "outputs": [],
   "source": [
    "#📌 신경망의 마지막 선형 계층은 nn.Softmax 모듈에 전달될 ([-infty, infty] 범위의 원시 값(raw value)인) logits 를 반환하는데,\n",
    "#📌 이 logits는 Softmax를 거치며 각 클래스에 대한 예측 확률을 나타내도록 [0, 1] 범위로 비례하여 조정된다.\n",
    "softmax = nn.Softmax(dim=1)\n",
    "pred_probab = softmax(logits)"
   ]
  }
 ],
 "metadata": {
  "kernelspec": {
   "display_name": "base",
   "language": "python",
   "name": "python3"
  },
  "language_info": {
   "codemirror_mode": {
    "name": "ipython",
    "version": 3
   },
   "file_extension": ".py",
   "mimetype": "text/x-python",
   "name": "python",
   "nbconvert_exporter": "python",
   "pygments_lexer": "ipython3",
   "version": "3.10.11"
  }
 },
 "nbformat": 4,
 "nbformat_minor": 5
}
